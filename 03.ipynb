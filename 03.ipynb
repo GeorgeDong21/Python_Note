{
 "cells": [
  {
   "cell_type": "markdown",
   "metadata": {},
   "source": [
    "# 字符串\n",
    "- 转义字符\n",
    "- 格式化\n",
    "- 内建函数\n",
    "\n",
    "## 转义字符\n",
    "- 用一个特殊的方法表示出一系列不方便写出的内容，比如回车、换行、退格\n",
    "- 借助反斜杠字符，一旦字符串中出现反斜杠，就表示出现了转义\n",
    "- 在字符串中，一旦出现反斜杠就要加倍小心，可能由转义字符出现\n",
    "- 不同系统对换行符有不同的表示\n",
    "    - Windows：\\n\n",
    "    - Linux:\\r\\n"
   ]
  },
  {
   "cell_type": "code",
   "execution_count": 1,
   "metadata": {},
   "outputs": [
    {
     "name": "stdout",
     "output_type": "stream",
     "text": [
      "i love ......\n"
     ]
    }
   ],
   "source": [
    "s = 'i love ......'\n",
    "print(s)"
   ]
  },
  {
   "cell_type": "code",
   "execution_count": 4,
   "metadata": {},
   "outputs": [
    {
     "name": "stdout",
     "output_type": "stream",
     "text": [
      "let's go\n",
      "let's go\n",
      "C:\\user\n",
      "i love \r\n",
      "......\n"
     ]
    }
   ],
   "source": [
    "#如果祥表示出let's go\n",
    "# 1、可以使用嵌套引号\n",
    "# 2、转义字符（反斜杠的使用）\n",
    "s = \"let's go\"\n",
    "print(s)\n",
    "\n",
    "ss='let\\'s go' #反斜杠使‘转义\n",
    "print(ss)\n",
    "\n",
    "sss = \"C:\\\\user\" #双斜杠代表单斜杠\n",
    "print(sss)\n",
    "\n",
    "#回车换行符\n",
    "s1 = \"i love \\r\\n......\"\n",
    "print(s1)"
   ]
  },
  {
   "cell_type": "markdown",
   "metadata": {},
   "source": [
    "## 字符串的格式化\n",
    "- 把字符串按照一定格式打印或填充\n",
    "- 格式化的两种方法\n",
    "    - 利用百分号%\n",
    "    - 利用format函数"
   ]
  },
  {
   "cell_type": "code",
   "execution_count": null,
   "metadata": {
    "collapsed": true
   },
   "outputs": [],
   "source": [
    "s = \"XXX 您好。\" #期望XXX中自动填充不同内容"
   ]
  },
  {
   "cell_type": "markdown",
   "metadata": {},
   "source": [
    "### 利用百分号%格式化\n",
    "- 在字符串中，利用%表示一个特殊的含义，表示对字符串进行格式化\n",
    "- %d:此处应该放入一个整数\n",
    "- %s:表示此处应该放入一个字符串"
   ]
  },
  {
   "cell_type": "code",
   "execution_count": 7,
   "metadata": {},
   "outputs": [
    {
     "name": "stdout",
     "output_type": "stream",
     "text": [
      "i love %s\n"
     ]
    }
   ],
   "source": [
    "s = \"i love %s\"\n",
    "# 下面的打印中直接把%s作为一个字符串打印出来了\n",
    "print(s)"
   ]
  },
  {
   "cell_type": "code",
   "execution_count": 8,
   "metadata": {},
   "outputs": [
    {
     "name": "stdout",
     "output_type": "stream",
     "text": [
      "i love 123\n"
     ]
    }
   ],
   "source": [
    "print(\"i love %s\"%\"123\")"
   ]
  },
  {
   "cell_type": "code",
   "execution_count": 9,
   "metadata": {},
   "outputs": [
    {
     "name": "stdout",
     "output_type": "stream",
     "text": [
      "i am 18 years old\n"
     ]
    }
   ],
   "source": [
    "s = \"i am %d years old\"\n",
    "print(s%18)"
   ]
  },
  {
   "cell_type": "code",
   "execution_count": 10,
   "metadata": {},
   "outputs": [
    {
     "name": "stdout",
     "output_type": "stream",
     "text": [
      "i am %s, i am %d years old.\n",
      "i am 123, i am 18 years old.\n"
     ]
    }
   ],
   "source": [
    "s = \"i am %s, i am %d years old.\"\n",
    "print(s)\n",
    "# 注意以下表达出错的原因\n",
    "#print(s%\"123\")\n",
    "# 几个占位符就要用几个实际内容代替\n",
    "# 如果出现了多个占位符，则相应内容需要用括号括起立\n",
    "print(s%(\"123\",18))"
   ]
  },
  {
   "cell_type": "markdown",
   "metadata": {},
   "source": [
    "### format函数格式化字符串\n",
    "- 直接用format函数进行格式化\n",
    "- 推荐使用这种方法\n",
    "- 在使用上，以{}和：代替%，后面用format带参数完成"
   ]
  },
  {
   "cell_type": "code",
   "execution_count": 14,
   "metadata": {},
   "outputs": [
    {
     "name": "stdout",
     "output_type": "stream",
     "text": [
      "i love 1123\n",
      "Yes, i am 18 years old, i love 1123 and i am 18 years old\n"
     ]
    }
   ],
   "source": [
    "s = \"i love {}\".format(\"1123\") #format前要点.format后用的是小括号\n",
    "print(s)\n",
    "\n",
    "s = \"Yes, i am {1} years old, i love {0} and i am {1} years old\".format(\"1123\",18) #按标号顺序替换\n",
    "print(s)"
   ]
  },
  {
   "cell_type": "markdown",
   "metadata": {},
   "source": [
    "## None\n",
    "- 表示什么都没有\n",
    "- 如果函数没有返回值，可以返回None\n",
    "- 可以用来占位\n",
    "- 用来解除变量绑定"
   ]
  },
  {
   "cell_type": "markdown",
   "metadata": {},
   "source": [
    "# 表达式\n",
    "- 由一个或者几个数字或者变量和运算符组合成的一行代码\n",
    "- 通常返回一个结果\n",
    "# 运算符\n",
    "- 用于运算的符号就叫运算符\n",
    "- 运算符分类\n",
    "    - 算术运算符\n",
    "    - 比较或关系运算符\n",
    "    - 赋值运算符\n",
    "    - 逻辑运算符\n",
    "    - 位运算\n",
    "    - 成员运算\n",
    "    - 身份运算符\n",
    "    "
   ]
  },
  {
   "cell_type": "markdown",
   "metadata": {},
   "source": [
    "## 算术运算符\n",
    "- 进行算术运算的符号\n",
    "- Python没有自增自减运算符"
   ]
  },
  {
   "cell_type": "code",
   "execution_count": 20,
   "metadata": {},
   "outputs": [
    {
     "name": "stdout",
     "output_type": "stream",
     "text": [
      "10\n",
      "36\n",
      "2.25\n",
      "1\n",
      "2\n",
      "1024\n"
     ]
    }
   ],
   "source": [
    "# + - * /\n",
    "a = 9+3-2\n",
    "b = 9*4\n",
    "c = 9/4\n",
    "print(a)\n",
    "print(b)\n",
    "print(c)\n",
    "\n",
    "# % 取余运算\n",
    "# 两个数字相除 % 只会得到余数\n",
    "a = 9%4\n",
    "print(a)\n",
    "\n",
    "# // 表示取商运算，也叫地板除\n",
    "a = 9//4\n",
    "print(a)\n",
    "\n",
    "# ** 表示幂运算\n",
    "a = 2 ** 10\n",
    "print(a)"
   ]
  },
  {
   "cell_type": "markdown",
   "metadata": {},
   "source": [
    "## 比较运算符\n",
    "- 对两个变量或者值进行比较的运算符\n",
    "- 比较的结果一定是一个布尔值，即True/False"
   ]
  },
  {
   "cell_type": "code",
   "execution_count": 22,
   "metadata": {},
   "outputs": [
    {
     "name": "stdout",
     "output_type": "stream",
     "text": [
      "False\n",
      "True\n"
     ]
    }
   ],
   "source": [
    "# == ，等于号\n",
    "a = 3 ** 4\n",
    "#1、计算a == 80\n",
    "#2、把结果放入b中\n",
    "b = a ==80\n",
    "print(b)\n",
    "\n",
    "# != 不等于\n",
    "print(9!=8)\n",
    "\n",
    "# < > <= >="
   ]
  },
  {
   "cell_type": "markdown",
   "metadata": {},
   "source": [
    "## 赋值运算符\n"
   ]
  },
  {
   "cell_type": "code",
   "execution_count": 23,
   "metadata": {},
   "outputs": [
    {
     "name": "stdout",
     "output_type": "stream",
     "text": [
      "11\n"
     ]
    }
   ],
   "source": [
    "# = ，赋值\n",
    "a = 0\n",
    "c = a = 4\n",
    "\n",
    "# +=, 是缩写\n",
    "a += 7 # a = a+7\n",
    "print(a)\n",
    "\n",
    "#同理还有 -=  *=  /=  %= **="
   ]
  },
  {
   "cell_type": "markdown",
   "metadata": {},
   "source": [
    "# 逻辑运算符\n",
    "- 对布尔值进行计算的符号\n",
    "- and\n",
    "- or\n",
    "- not\n",
    "- Python中没有异或运算\n",
    "- 运算规则\n",
    "    - and看做乘法，or看做加法\n",
    "    - True看做1，False看做0\n",
    "    - 则逻辑运算就能转换成整数数学运算\n",
    "    - 最后结果0为False，否则为True\n",
    "- 逻辑运算的短路问题\n",
    "    - 逻辑运算式，按照运算顺序计算，一旦能够确定整个式子未来的值，则不再进行计算，直接返回"
   ]
  },
  {
   "cell_type": "code",
   "execution_count": 24,
   "metadata": {},
   "outputs": [
    {
     "name": "stdout",
     "output_type": "stream",
     "text": [
      "True\n"
     ]
    }
   ],
   "source": [
    "# 逻辑运算符案例\n",
    "a = True\n",
    "b = False\n",
    "c = True\n",
    "\n",
    "d = a and b or c # 等价于 d = a * b + c\n",
    "print(d)\n",
    "\n",
    "# 逻辑运算短路案例\n",
    "# 下面的逻辑表达式中，a 的值一定是True，则运行到or时，整个表达式不再向下计算\n",
    "a = True or XXXXx\n",
    "\n",
    "# 下面表达式，如果xxx中包含赋值表达式，则结果很难预期\n",
    "b = 0 \n",
    "a = a or (b = 9) and 6\n",
    "# 假定上面表达式如果没有语法错误\n",
    "# 则b最终的值应该是0而不是9\n",
    "print(b)\n",
    "print(a)"
   ]
  },
  {
   "cell_type": "markdown",
   "metadata": {},
   "source": [
    "# 成员运算符号\n",
    "- 用来检测一个变量是不是另一个变量的成员\n",
    "- in\n",
    "- not in\n",
    "- 结果是布尔值"
   ]
  },
  {
   "cell_type": "code",
   "execution_count": 27,
   "metadata": {},
   "outputs": [
    {
     "name": "stdout",
     "output_type": "stream",
     "text": [
      "False\n",
      "True\n",
      "False\n"
     ]
    }
   ],
   "source": [
    "# 案例\n",
    "l = {1,2,3,4,5}\n",
    "a = 7\n",
    "\n",
    "b = a in l\n",
    "print(b)\n",
    "\n",
    "a = 4\n",
    "print(a in l)\n",
    "print(a not in l)"
   ]
  },
  {
   "cell_type": "markdown",
   "metadata": {},
   "source": [
    "## 身份运算符\n",
    "- 用来检测两个变量是不是同一个变量\n",
    "    - 格式就是 var1 is var2\n",
    "- is not 两个变量不是同一个变量\n"
   ]
  },
  {
   "cell_type": "code",
   "execution_count": 28,
   "metadata": {},
   "outputs": [
    {
     "name": "stdout",
     "output_type": "stream",
     "text": [
      "True\n"
     ]
    }
   ],
   "source": [
    "a = 9 \n",
    "b = 9\n",
    "print(a is b)"
   ]
  },
  {
   "cell_type": "markdown",
   "metadata": {},
   "source": [
    "## 运算符的优先级问题\n",
    "- 永远记住，括号具有最高优先级\n",
    "- 优先级表格略\n"
   ]
  },
  {
   "cell_type": "markdown",
   "metadata": {},
   "source": [
    "# 程序结构\n",
    "- 顺序\n",
    "- 分支\n",
    "- 循环"
   ]
  }
 ],
 "metadata": {
  "kernelspec": {
   "display_name": "Python 3",
   "language": "python",
   "name": "python3"
  },
  "language_info": {
   "codemirror_mode": {
    "name": "ipython",
    "version": 3
   },
   "file_extension": ".py",
   "mimetype": "text/x-python",
   "name": "python",
   "nbconvert_exporter": "python",
   "pygments_lexer": "ipython3",
   "version": "3.6.3"
  }
 },
 "nbformat": 4,
 "nbformat_minor": 2
}
