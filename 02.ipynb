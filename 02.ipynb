{
 "cells": [
  {
   "cell_type": "markdown",
   "metadata": {},
   "source": [
    "# 环境安装\n",
    "- 推荐Virtulbox+Ubuntu\n",
    "- 套件推荐Anaconda+Pycharm"
   ]
  },
  {
   "cell_type": "code",
   "execution_count": 2,
   "metadata": {},
   "outputs": [
    {
     "name": "stdout",
     "output_type": "stream",
     "text": [
      "hello world\n"
     ]
    }
   ],
   "source": [
    "print(\"hello world\")\n",
    "'''\n",
    "这里面是块注释\n",
    "'''"
   ]
  },
  {
   "cell_type": "markdown",
   "metadata": {},
   "source": [
    "# 注释\n",
    "- 行注释：\n",
    "- 块注释：多行代码或内容（以三个单引号开始和结束）"
   ]
  },
  {
   "cell_type": "markdown",
   "metadata": {},
   "source": [
    "# 变量\n",
    "- 程序=数据结构+算法\n",
    "- 变量就是可以重复使用的一个量，或者是一个代号\n",
    "- 变量的命名规则\n",
    "    - 变量的命名可以包含数字，大小写字母，下划线或更多，但是不推荐前三种内容之外的符号\n",
    "    - 数字不可以打头\n",
    "    - 一般在Python中，以下划线开头具有特殊含义，不建议使用\n",
    "        - 比如_age,_name等\n",
    "    - 大小写不一样，俗称大小写敏感\n",
    "    - 推荐：使用具有具体含义的英文单词或缩写\n",
    "        - srv=server skt=socket\n",
    "        - 驼峰命名法\n",
    "            - 名称以单词自动连接，且每个单词首字母大写\n",
    "                - 大驼峰，每个单词第一个字母均大写\n",
    "                    - 在Python中给类命名，如：MyFirstLove,IntOne\n",
    "                - 小驼峰，类似大驼峰，但第一个字母小写\n",
    "                    - 在Python中一般给普通变量或函数命名，如：myFirstLove,intOne\n",
    "                - posix写法\n",
    "                    - 多个字母用下划线连接，单词全部小写，如：my_first_love,int_one\n",
    "    - 保留字或关键字\n",
    "        - 变量命名必须避开，不能跟关键字和保留字重复\n",
    "        - class，def，break，for\n",
    "                    "
   ]
  },
  {
   "cell_type": "code",
   "execution_count": 4,
   "metadata": {},
   "outputs": [
    {
     "name": "stdout",
     "output_type": "stream",
     "text": [
      "['False', 'None', 'True', 'and', 'as', 'assert', 'break', 'class', 'continue', 'def', 'del', 'elif', 'else', 'except', 'finally', 'for', 'from', 'global', 'if', 'import', 'in', 'is', 'lambda', 'nonlocal', 'not', 'or', 'pass', 'raise', 'return', 'try', 'while', 'with', 'yield']\n"
     ]
    }
   ],
   "source": [
    "# 查看关键字的方法\n",
    "import keyword#引入关键字模块\n",
    "# 打印出全部关键字\n",
    "print(keyword.kwlist)"
   ]
  },
  {
   "cell_type": "markdown",
   "metadata": {},
   "source": [
    "## 变量声明\n",
    "- var_name = var_value\n",
    "- var1 = var2 = var3 = var_value\n",
    "- var1,var2,var3 = v1,v2,v3"
   ]
  },
  {
   "cell_type": "code",
   "execution_count": 7,
   "metadata": {},
   "outputs": [
    {
     "name": "stdout",
     "output_type": "stream",
     "text": [
      "18\n",
      "18\n",
      "18\n",
      "18\n",
      "18\n",
      "12\n",
      "21\n",
      "55\n"
     ]
    }
   ],
   "source": [
    "#定义变量age，把18放入变量age中\n",
    "age = 18\n",
    "print(age)\n",
    "print(18)\n",
    "\n",
    "#给age1，age2，age3放入同一个内容或值\n",
    "age1 = age2 = age3 =18\n",
    "print(age1)\n",
    "print(age2)\n",
    "print(age3)\n",
    "\n",
    "#一行内给多个变量赋值\n",
    "age4,age5,age6 = 12,21,55\n",
    "print(age4)\n",
    "print(age5)\n",
    "print(age6)"
   ]
  },
  {
   "cell_type": "markdown",
   "metadata": {},
   "source": [
    "## 变量类型\n",
    "- 严格意义上，Python只有一个类型\n",
    "- 标准数据一共六中\n",
    "    - 数字类型Number\n",
    "    - 字符串类型str\n",
    "    - 列表list\n",
    "    - 元组tuple\n",
    "    - 字典Dictionary\n",
    "    - 集合set"
   ]
  },
  {
   "cell_type": "markdown",
   "metadata": {},
   "source": [
    "## Number数字类型\n",
    "- 数字类型没有大小限制\n",
    "### 整数\n",
    "- 没有小数部分\n",
    "- 自然数，0，负自然数\n",
    "- 整数分进制\n",
    "    - 二进制：表示为0b开头的0,1代码，例如0b01101,0b10001\n",
    "    - 八进制: 以0o开头的0~7的数字\n",
    "    - 十六进制: 以0x开头表示的数字\n",
    "    - 十进制"
   ]
  },
  {
   "cell_type": "code",
   "execution_count": 10,
   "metadata": {},
   "outputs": [
    {
     "name": "stdout",
     "output_type": "stream",
     "text": [
      "18\n",
      "18\n",
      "66\n",
      "255\n"
     ]
    }
   ],
   "source": [
    "age = 18\n",
    "print(18)\n",
    "\n",
    "age = 0b10010\n",
    "print(age)\n",
    "\n",
    "age = 0o102\n",
    "print(age)\n",
    "\n",
    "age = 0xff\n",
    "print(age)"
   ]
  },
  {
   "cell_type": "markdown",
   "metadata": {},
   "source": [
    "### 浮点数\n",
    "- 小数\n",
    "- 计算机里面表示浮点数可以有条件省略\n",
    "- 3.1415\n",
    "- 3.\n",
    "- 0.5\n",
    "- .5\n",
    "- 科学计数法\n",
    "    - 写法是用e/E后跟着整数表示10的指数\n",
    "    - 176.23 == 1.7623e2\n",
    "    - 0.876 == 8.76e-1"
   ]
  },
  {
   "cell_type": "code",
   "execution_count": 13,
   "metadata": {},
   "outputs": [
    {
     "name": "stdout",
     "output_type": "stream",
     "text": [
      "156.34\n",
      "0.2\n",
      "0.6\n"
     ]
    }
   ],
   "source": [
    "height = 156.34\n",
    "print(height)\n",
    "\n",
    "shili = 0.2\n",
    "print(shili)\n",
    "\n",
    "sili = .6\n",
    "print(sili)"
   ]
  },
  {
   "cell_type": "markdown",
   "metadata": {},
   "source": [
    "### 复数complex\n",
    "- 一个由实部和虚部构成的数字\n",
    "- 虚部用j/J表示\n",
    "- 5+3j\n",
    "- 3j\n",
    "- （3j）"
   ]
  },
  {
   "cell_type": "markdown",
   "metadata": {},
   "source": [
    "### 布尔值\n",
    "- 表示真假的值\n",
    "- 只有两个值：True/False\n",
    "- 布尔值可以跟数字直接操作"
   ]
  },
  {
   "cell_type": "code",
   "execution_count": 15,
   "metadata": {},
   "outputs": [
    {
     "name": "stdout",
     "output_type": "stream",
     "text": [
      "19\n"
     ]
    }
   ],
   "source": [
    "#布尔值操作\n",
    "age = 18 + True\n",
    "print(age)"
   ]
  },
  {
   "cell_type": "markdown",
   "metadata": {},
   "source": [
    "## 字符串\n",
    "- 用来表示一串文字信息\n",
    "- 如何表示\n",
    "    - 单引号\n",
    "    - 双引号\n",
    "    - 三引号（三个单引号或者三个双引号）\n",
    "        - 能够括起多行信息\n",
    "- 单双引号可以交错使用"
   ]
  },
  {
   "cell_type": "code",
   "execution_count": 21,
   "metadata": {},
   "outputs": [
    {
     "name": "stdout",
     "output_type": "stream",
     "text": [
      "i love ......\n",
      "我爱XXX\n",
      "\n",
      "i love ......\n",
      "23333\n",
      "凯尔特人总冠军\n",
      "哈哈哈哈哈\n",
      "\n"
     ]
    }
   ],
   "source": [
    "love = \"i love ......\"\n",
    "print(love)\n",
    "\n",
    "love = '我爱XXX'\n",
    "print(love)\n",
    "\n",
    "#单双引号交错使用\n",
    "#<a style=\"color:red\">哈哈哈</a>\n",
    "#用引号表示上述字符串\n",
    "html = '<a style=\"color:red\">哈哈哈</a>'\n",
    "\n",
    "htmls = '''\n",
    "i love ......\n",
    "23333\n",
    "凯尔特人总冠军\n",
    "哈哈哈哈哈\n",
    "'''\n",
    "print(htmls)"
   ]
  }
 ],
 "metadata": {
  "kernelspec": {
   "display_name": "Python 3",
   "language": "python",
   "name": "python3"
  },
  "language_info": {
   "codemirror_mode": {
    "name": "ipython",
    "version": 3
   },
   "file_extension": ".py",
   "mimetype": "text/x-python",
   "name": "python",
   "nbconvert_exporter": "python",
   "pygments_lexer": "ipython3",
   "version": "3.6.3"
  }
 },
 "nbformat": 4,
 "nbformat_minor": 2
}
