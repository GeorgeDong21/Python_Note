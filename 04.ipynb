{
 "cells": [
  {
   "cell_type": "markdown",
   "metadata": {},
   "source": [
    "# 三大结构\n",
    "- 顺序\n",
    "- 分支\n",
    "- 循环"
   ]
  },
  {
   "cell_type": "markdown",
   "metadata": {},
   "source": [
    "# 分支\n",
    "- 分支的基本语法\n",
    "\n",
    "        if 条件表达式：\n",
    "           语句1\n",
    "           语句2\n",
    "           语句3\n",
    "           ......\n",
    "- 条件表达式就是计算结果，必须为布尔值的表达式\n",
    "- 表达式后的冒号不能少\n",
    "- 注意if后面的出现的语句，如果属于if语句块，则必须同一个缩进等级\n",
    "- 条件表达式结果为True执行if后面的语句块"
   ]
  },
  {
   "cell_type": "code",
   "execution_count": 1,
   "metadata": {},
   "outputs": [
    {
     "name": "stdout",
     "output_type": "stream",
     "text": [
      "去叫家长\n",
      "我们不带你玩\n",
      "滚球的\n"
     ]
    }
   ],
   "source": [
    "# if语句练习\n",
    "# 如果age小于18岁，则打印信息“去叫家长”\n",
    "age = 17 \n",
    "if age < 18:\n",
    "    print(\"去叫家长\")\n",
    "    print(\"我们不带你玩\")\n",
    "    print(\"滚球的\")"
   ]
  },
  {
   "cell_type": "code",
   "execution_count": 2,
   "metadata": {},
   "outputs": [
    {
     "name": "stdout",
     "output_type": "stream",
     "text": [
      "开始上课！老司机们！\n"
     ]
    }
   ],
   "source": [
    "# if语句练习\n",
    "age = 19 \n",
    "if age < 18: #条件表达式为False时直接跳过语句块\n",
    "    print(\"去叫家长\")\n",
    "    print(\"我们不带你玩\")\n",
    "    print(\"滚球的\")\n",
    "    \n",
    "print(\"开始上课！老司机们！\") #条件表达式为False，直接跳到本句"
   ]
  },
  {
   "cell_type": "code",
   "execution_count": 4,
   "metadata": {},
   "outputs": [
    {
     "name": "stdout",
     "output_type": "stream",
     "text": [
      "今天学习for循环\n",
      "今天讲for循环\n"
     ]
    }
   ],
   "source": [
    "print(\"今天学习for循环\")\n",
    "gender = '男'\n",
    "if gender == '女':\n",
    "    print(\"a candy\")\n",
    "    \n",
    "print(\"开始讲for循环\")"
   ]
  },
  {
   "cell_type": "markdown",
   "metadata": {},
   "source": [
    "### 双向分支\n",
    "- if...else...语句\n",
    "\n",
    "        if 条件表达式:\n",
    "            语句1\n",
    "            语句2\n",
    "            ......\n",
    "        else:\n",
    "            语句1\n",
    "            语句2\n",
    "            ......\n",
    "            \n",
    "- 双向分支有两个分支，当程序执行到if...else...语句时，一定执行两个中的一个，也仅执行一个\n",
    "- 缩进问题，if和else一个层级，其余的语句块一个层级"
   ]
  },
  {
   "cell_type": "code",
   "execution_count": 8,
   "metadata": {},
   "outputs": [
    {
     "name": "stdout",
     "output_type": "stream",
     "text": [
      "请输入性别：caonima\n",
      "你的性别是：caonima\n",
      "a candy\n",
      "开始上课咯！\n"
     ]
    }
   ],
   "source": [
    "# input的作用有：\n",
    "# 1、在屏幕上输出括号内的字符串\n",
    "# 2、接受用户输入的内容并且返回到程序\n",
    "# 3、input返回的内容一定是字符串类型\n",
    "\n",
    "gender = input(\"请输入性别：\")\n",
    "print(\"你的性别是：{0}\".format(gender))\n",
    "\n",
    "if gender == \"男\":\n",
    "    print(\"代码敲十遍\")\n",
    "else:\n",
    "    print(\"a candy\")\n",
    "    \n",
    "print(\"开始上课咯！\")"
   ]
  },
  {
   "cell_type": "code",
   "execution_count": 11,
   "metadata": {},
   "outputs": [
    {
     "name": "stdout",
     "output_type": "stream",
     "text": [
      "请输入学生成绩：86\n",
      "B\n"
     ]
    }
   ],
   "source": [
    "# 考试成绩判断\n",
    "# 90以上：输出优秀\n",
    "# 80~90：良\n",
    "# 70~80：中\n",
    "# 60~70：过\n",
    "# 60以下：我没你这个学生\n",
    "# score 存放学生成绩\n",
    "\n",
    "# 注意input的返回类型！\n",
    "score = input(\"请输入学生成绩：\")\n",
    "# 需要把str转成int\n",
    "score = int(score)\n",
    "\n",
    "if score >= 90:\n",
    "    print(\"A\")\n",
    "if 90 > score >= 80:\n",
    "    print(\"B\")\n",
    "if 80 > score >= 70:\n",
    "    print('C')\n",
    "if 70 > score >= 60:\n",
    "    print('D')\n",
    "if score < 60:\n",
    "    print(\"滚开，我没你这个学生\")\n"
   ]
  },
  {
   "cell_type": "markdown",
   "metadata": {},
   "source": [
    "## 多路分支\n",
    "- 很多分支的情况，称为多路分支\n",
    "\n",
    "        if 条件表达式：\n",
    "            语句1\n",
    "            ......\n",
    "        elif 条件表达式：\n",
    "            语句1\n",
    "            ......\n",
    "        ........\n",
    "        else:\n",
    "            语句1\n",
    "            ......\n",
    "- elif 可以有很多种\n",
    "- else可选\n",
    "- 多路分支只会选一个执行"
   ]
  },
  {
   "cell_type": "code",
   "execution_count": 13,
   "metadata": {},
   "outputs": [
    {
     "name": "stdout",
     "output_type": "stream",
     "text": [
      "请输入学生成绩：86\n",
      "B\n"
     ]
    }
   ],
   "source": [
    "# 现用多路分支重做上例\n",
    "score = input(\"请输入学生成绩：\")\n",
    "score = int(score)\n",
    "\n",
    "if score >= 90:\n",
    "    print(\"A\")\n",
    "elif score >= 80:\n",
    "    print(\"B\")\n",
    "elif score >= 70:\n",
    "    print('C')\n",
    "elif score >= 60:\n",
    "    print('D')\n",
    "else:\n",
    "    print(\"滚开，我没你这个学生\")\n"
   ]
  },
  {
   "cell_type": "markdown",
   "metadata": {},
   "source": [
    "## if 语句其他\n",
    "- if语句可以嵌套使用，但不推荐\n",
    "- Python没有switch-case语句"
   ]
  },
  {
   "cell_type": "markdown",
   "metadata": {},
   "source": [
    "# 循环语句\n",
    "- 重复执行某些固定动作或者处理基本固定的事物\n",
    "- 分类\n",
    "    - for循环\n",
    "    - while循环\n",
    "## for循环\n",
    "- for循环\n",
    "    \n",
    "        for 变量 in 序列：\n",
    "            语句1\n",
    "            语句2\n",
    "            ......"
   ]
  },
  {
   "cell_type": "code",
   "execution_count": 14,
   "metadata": {},
   "outputs": [
    {
     "name": "stdout",
     "output_type": "stream",
     "text": [
      "zhangsan\n",
      "lisi\n",
      "wangwu\n",
      "jingjing\n"
     ]
    }
   ],
   "source": [
    "# 列表就是一列数字或其他的值，一般用中括号表示\n",
    "# 例如['zhangsan','lisi','wangwu','jingjing']\n",
    "\n",
    "# 打印学生列表姓名\n",
    "for name in ['zhangsan','lisi','wangwu','jingjing']:\n",
    "    print(name)"
   ]
  },
  {
   "cell_type": "code",
   "execution_count": 16,
   "metadata": {},
   "outputs": [
    {
     "name": "stdout",
     "output_type": "stream",
     "text": [
      "zhangsan\n",
      "同学我们不约\n",
      "lisi\n",
      "同学我们不约\n",
      "wangwu\n",
      "同学我们不约\n",
      "jingjing\n",
      "我的最爱jingjing出现了\n"
     ]
    }
   ],
   "source": [
    "# 打印学生列表姓名\n",
    "# 如果是jingjing，那肯定是我的最爱呀\n",
    "# 如果是别的学生，就要高冷地拒绝\n",
    "for name in ['zhangsan','lisi','wangwu','jingjing']:\n",
    "    print(name)\n",
    "    if name == 'jingjing':\n",
    "        print('我的最爱{0}出现了'.format(name))\n",
    "    else:\n",
    "        print(\"同学我们不约\")"
   ]
  },
  {
   "cell_type": "markdown",
   "metadata": {},
   "source": [
    "## range简介\n",
    "- 生成一个数字序列\n",
    "- 具体范围可以设定"
   ]
  },
  {
   "cell_type": "code",
   "execution_count": 18,
   "metadata": {},
   "outputs": [
    {
     "name": "stdout",
     "output_type": "stream",
     "text": [
      "1\n",
      "2\n",
      "3\n",
      "4\n",
      "5\n",
      "6\n",
      "7\n",
      "8\n",
      "9\n",
      "10\n"
     ]
    }
   ],
   "source": [
    "# range联系\n",
    "# 打印从1到10的数字\n",
    "# 下例说明，一般在Python中，如果由表示数字范围的两个数，一般是包含左边的数字而不包含右边的数字\n",
    "# randint是特例，左右都包括\n",
    "# range函数在Python2和Python3中有严重区别\n",
    "for i in range(1,11):\n",
    "    print(i)"
   ]
  },
  {
   "cell_type": "markdown",
   "metadata": {},
   "source": [
    "## for-else语句\n",
    "- 当for循环结束时，会执行else语句\n",
    "- else语句是可选语句"
   ]
  },
  {
   "cell_type": "code",
   "execution_count": 19,
   "metadata": {},
   "outputs": [
    {
     "name": "stdout",
     "output_type": "stream",
     "text": [
      "zhangsan\n",
      "同学我们不约\n",
      "lisi\n",
      "同学我们不约\n",
      "wangwu\n",
      "同学我们不约\n",
      "jingjing\n",
      "我的最爱jingjing出现了\n",
      "不会再爱了\n"
     ]
    }
   ],
   "source": [
    "# for-else语句\n",
    "# 打印列表中的同学\n",
    "# 如果没有在列表中，或者列表结束了，我们需要打印提示语句，表示不会再爱了\n",
    "\n",
    "# 打印学生列表姓名\n",
    "# 如果是jingjing，那肯定是我的最爱呀\n",
    "# 如果是别的学生，就要高冷地拒绝\n",
    "for name in ['zhangsan','lisi','wangwu','jingjing']:\n",
    "    print(name)\n",
    "    if name == 'jingjing':\n",
    "        print('我的最爱{0}出现了'.format(name))\n",
    "    else:\n",
    "        print(\"同学我们不约\")\n",
    "else:\n",
    "    print(\"不会再爱了\")"
   ]
  },
  {
   "cell_type": "markdown",
   "metadata": {},
   "source": [
    "## for循环之break，continue，pass\n",
    "- break：无条件结束整个循环，简称循环猝死\n",
    "- continue：无条件结束本次循环，重新进入下一轮\n",
    "- pass：表示略过"
   ]
  },
  {
   "cell_type": "code",
   "execution_count": 24,
   "metadata": {},
   "outputs": [
    {
     "name": "stdout",
     "output_type": "stream",
     "text": [
      "1\n",
      "2\n",
      "3\n",
      "4\n",
      "5\n",
      "6\n",
      "i find it!\n"
     ]
    }
   ],
   "source": [
    "# 在1～10的数字中，寻找数字7，一旦找到，打印出来，其余则什么都不做\n",
    "# for循环中的变量表示，一般用i，k，m，n，或者index，idx，item之类\n",
    "# 在Python中，如果循环变量名称不重要，可以用下划线(_)代替\n",
    "\n",
    "for i in range(1,11):\n",
    "    if i == 7:\n",
    "        print(\"i find it!\")\n",
    "        break\n",
    "    else:\n",
    "        print(i)"
   ]
  },
  {
   "cell_type": "code",
   "execution_count": 26,
   "metadata": {},
   "outputs": [
    {
     "name": "stdout",
     "output_type": "stream",
     "text": [
      "2是偶数\n",
      "4是偶数\n",
      "6是偶数\n",
      "8是偶数\n",
      "10是偶数\n"
     ]
    }
   ],
   "source": [
    "# continue语句练习\n",
    "# 在1～10的数字中，寻找所有偶数，一旦找到，打印出来，其余则什么都不做\n",
    "\n",
    "for i in range(1,11):\n",
    "    if i%2 == 1:\n",
    "        continue\n",
    "    else:\n",
    "        print(\"{}是偶数\".format(i))"
   ]
  },
  {
   "cell_type": "code",
   "execution_count": 27,
   "metadata": {},
   "outputs": [
    {
     "name": "stdout",
     "output_type": "stream",
     "text": [
      "2是偶数\n",
      "4是偶数\n",
      "6是偶数\n",
      "8是偶数\n",
      "10是偶数\n"
     ]
    }
   ],
   "source": [
    "# continue语句练习 版本2\n",
    "# 在1～10的数字中，寻找所有偶数，一旦找到，打印出来，其余则什么都不做\n",
    "\n",
    "for i in range(1,11):\n",
    "    if i%2 == 0:\n",
    "        print(\"{}是偶数\".format(i))"
   ]
  },
  {
   "cell_type": "code",
   "execution_count": 28,
   "metadata": {},
   "outputs": [
    {
     "name": "stdout",
     "output_type": "stream",
     "text": [
      "2是偶数\n",
      "4是偶数\n",
      "6是偶数\n",
      "8是偶数\n",
      "10是偶数\n"
     ]
    }
   ],
   "source": [
    "# continue语句练习 版本3\n",
    "# 在1～10的数字中，寻找所有偶数，一旦找到，打印出来，其余则什么都不做\n",
    "# 本案例中continue的作用已经得到体现\n",
    "for i in range(1,11):\n",
    "    if i%2 == 1:\n",
    "        continue\n",
    "    print(\"{}是偶数\".format(i))"
   ]
  },
  {
   "cell_type": "code",
   "execution_count": 30,
   "metadata": {},
   "outputs": [
    {
     "name": "stdout",
     "output_type": "stream",
     "text": [
      "i am here!\n",
      "i am here!\n",
      "i am here!\n",
      "i am here!\n",
      "i am here!\n",
      "i am here!\n",
      "i am here!\n",
      "i am here!\n",
      "i am here!\n",
      "i am here!\n"
     ]
    }
   ],
   "source": [
    "# pass实例，一般用于占位\n",
    "\n",
    "for i in range(1,11):\n",
    "    pass\n",
    "    print(\"i am here!\")"
   ]
  }
 ],
 "metadata": {
  "kernelspec": {
   "display_name": "Python 3",
   "language": "python",
   "name": "python3"
  },
  "language_info": {
   "codemirror_mode": {
    "name": "ipython",
    "version": 3
   },
   "file_extension": ".py",
   "mimetype": "text/x-python",
   "name": "python",
   "nbconvert_exporter": "python",
   "pygments_lexer": "ipython3",
   "version": "3.6.3"
  }
 },
 "nbformat": 4,
 "nbformat_minor": 2
}
